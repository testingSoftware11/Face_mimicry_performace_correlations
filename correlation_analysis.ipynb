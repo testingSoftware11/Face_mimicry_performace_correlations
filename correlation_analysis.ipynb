{
  "nbformat": 4,
  "nbformat_minor": 0,
  "metadata": {
    "colab": {
      "provenance": []
    },
    "kernelspec": {
      "name": "python3",
      "display_name": "Python 3"
    },
    "language_info": {
      "name": "python"
    }
  },
  "cells": [
    {
      "cell_type": "code",
      "execution_count": 1,
      "metadata": {
        "id": "Rkuqmp0ICxl5"
      },
      "outputs": [],
      "source": [
        "from google.colab import files\n",
        "import os\n",
        "import pandas as pd\n",
        "import json\n",
        "from datetime import datetime\n",
        "import matplotlib.pyplot as plt"
      ]
    },
    {
      "cell_type": "markdown",
      "source": [
        "Summrize all metadata files"
      ],
      "metadata": {
        "id": "R2ycdfKKDChk"
      }
    },
    {
      "cell_type": "code",
      "source": [
        "def summarize_metadata(metadata_path):\n",
        "    rows = []\n",
        "    for file in os.listdir(metadata_path):\n",
        "        if file.endswith(\".json\"):\n",
        "            with open(os.path.join(metadata_path, file), \"r\") as f:\n",
        "                data = json.load(f)\n",
        "            starts = [datetime.fromisoformat(t.replace(\"Z\", \"\")) for t in data[\"calibration_started\"]]\n",
        "            ends = [datetime.fromisoformat(t.replace(\"Z\", \"\")) for t in data[\"back_from_calibration\"]]\n",
        "            durations = [(e - s).total_seconds() for s, e in zip(starts, ends)]\n",
        "            total_time = sum(durations)\n",
        "            mean_time = total_time / len(durations) if durations else 0\n",
        "            rows.append({\n",
        "                \"user_id\": data[\"user_id\"],\n",
        "                \"video_id\": data[\"video_id\"],\n",
        "                \"count_calibrations\": len(durations),\n",
        "                \"total_calibration_time\": total_time,\n",
        "                \"mean_calibration_time\": mean_time\n",
        "            })\n",
        "    return pd.DataFrame(rows)"
      ],
      "metadata": {
        "id": "BFzOO7z6DFZz"
      },
      "execution_count": 2,
      "outputs": []
    },
    {
      "cell_type": "markdown",
      "source": [
        "Upload metadata JSON files"
      ],
      "metadata": {
        "id": "M54HSwgfDHnD"
      }
    },
    {
      "cell_type": "code",
      "source": [
        "print(\"Please upload ALL metadata JSON files (one or more):\")\n",
        "uploaded_metadata = files.upload()\n",
        "\n",
        "metadata_dir = \"uploaded_metadata\"\n",
        "os.makedirs(metadata_dir, exist_ok=True)\n",
        "for filename, content in uploaded_metadata.items():\n",
        "    with open(os.path.join(metadata_dir, filename), \"wb\") as f:\n",
        "        f.write(content)\n",
        "\n",
        "metadata_summary = summarize_metadata(metadata_dir)"
      ],
      "metadata": {
        "colab": {
          "base_uri": "https://localhost:8080/",
          "height": 577
        },
        "id": "6vs-S6syDLJb",
        "outputId": "b08eccda-ef6a-474f-c7d6-f82f50fdeca9"
      },
      "execution_count": 3,
      "outputs": [
        {
          "output_type": "stream",
          "name": "stdout",
          "text": [
            "Please upload ALL metadata JSON files (one or more):\n"
          ]
        },
        {
          "output_type": "display_data",
          "data": {
            "text/plain": [
              "<IPython.core.display.HTML object>"
            ],
            "text/html": [
              "\n",
              "     <input type=\"file\" id=\"files-e4700193-7f2e-40b8-913f-455333a17d7a\" name=\"files[]\" multiple disabled\n",
              "        style=\"border:none\" />\n",
              "     <output id=\"result-e4700193-7f2e-40b8-913f-455333a17d7a\">\n",
              "      Upload widget is only available when the cell has been executed in the\n",
              "      current browser session. Please rerun this cell to enable.\n",
              "      </output>\n",
              "      <script>// Copyright 2017 Google LLC\n",
              "//\n",
              "// Licensed under the Apache License, Version 2.0 (the \"License\");\n",
              "// you may not use this file except in compliance with the License.\n",
              "// You may obtain a copy of the License at\n",
              "//\n",
              "//      http://www.apache.org/licenses/LICENSE-2.0\n",
              "//\n",
              "// Unless required by applicable law or agreed to in writing, software\n",
              "// distributed under the License is distributed on an \"AS IS\" BASIS,\n",
              "// WITHOUT WARRANTIES OR CONDITIONS OF ANY KIND, either express or implied.\n",
              "// See the License for the specific language governing permissions and\n",
              "// limitations under the License.\n",
              "\n",
              "/**\n",
              " * @fileoverview Helpers for google.colab Python module.\n",
              " */\n",
              "(function(scope) {\n",
              "function span(text, styleAttributes = {}) {\n",
              "  const element = document.createElement('span');\n",
              "  element.textContent = text;\n",
              "  for (const key of Object.keys(styleAttributes)) {\n",
              "    element.style[key] = styleAttributes[key];\n",
              "  }\n",
              "  return element;\n",
              "}\n",
              "\n",
              "// Max number of bytes which will be uploaded at a time.\n",
              "const MAX_PAYLOAD_SIZE = 100 * 1024;\n",
              "\n",
              "function _uploadFiles(inputId, outputId) {\n",
              "  const steps = uploadFilesStep(inputId, outputId);\n",
              "  const outputElement = document.getElementById(outputId);\n",
              "  // Cache steps on the outputElement to make it available for the next call\n",
              "  // to uploadFilesContinue from Python.\n",
              "  outputElement.steps = steps;\n",
              "\n",
              "  return _uploadFilesContinue(outputId);\n",
              "}\n",
              "\n",
              "// This is roughly an async generator (not supported in the browser yet),\n",
              "// where there are multiple asynchronous steps and the Python side is going\n",
              "// to poll for completion of each step.\n",
              "// This uses a Promise to block the python side on completion of each step,\n",
              "// then passes the result of the previous step as the input to the next step.\n",
              "function _uploadFilesContinue(outputId) {\n",
              "  const outputElement = document.getElementById(outputId);\n",
              "  const steps = outputElement.steps;\n",
              "\n",
              "  const next = steps.next(outputElement.lastPromiseValue);\n",
              "  return Promise.resolve(next.value.promise).then((value) => {\n",
              "    // Cache the last promise value to make it available to the next\n",
              "    // step of the generator.\n",
              "    outputElement.lastPromiseValue = value;\n",
              "    return next.value.response;\n",
              "  });\n",
              "}\n",
              "\n",
              "/**\n",
              " * Generator function which is called between each async step of the upload\n",
              " * process.\n",
              " * @param {string} inputId Element ID of the input file picker element.\n",
              " * @param {string} outputId Element ID of the output display.\n",
              " * @return {!Iterable<!Object>} Iterable of next steps.\n",
              " */\n",
              "function* uploadFilesStep(inputId, outputId) {\n",
              "  const inputElement = document.getElementById(inputId);\n",
              "  inputElement.disabled = false;\n",
              "\n",
              "  const outputElement = document.getElementById(outputId);\n",
              "  outputElement.innerHTML = '';\n",
              "\n",
              "  const pickedPromise = new Promise((resolve) => {\n",
              "    inputElement.addEventListener('change', (e) => {\n",
              "      resolve(e.target.files);\n",
              "    });\n",
              "  });\n",
              "\n",
              "  const cancel = document.createElement('button');\n",
              "  inputElement.parentElement.appendChild(cancel);\n",
              "  cancel.textContent = 'Cancel upload';\n",
              "  const cancelPromise = new Promise((resolve) => {\n",
              "    cancel.onclick = () => {\n",
              "      resolve(null);\n",
              "    };\n",
              "  });\n",
              "\n",
              "  // Wait for the user to pick the files.\n",
              "  const files = yield {\n",
              "    promise: Promise.race([pickedPromise, cancelPromise]),\n",
              "    response: {\n",
              "      action: 'starting',\n",
              "    }\n",
              "  };\n",
              "\n",
              "  cancel.remove();\n",
              "\n",
              "  // Disable the input element since further picks are not allowed.\n",
              "  inputElement.disabled = true;\n",
              "\n",
              "  if (!files) {\n",
              "    return {\n",
              "      response: {\n",
              "        action: 'complete',\n",
              "      }\n",
              "    };\n",
              "  }\n",
              "\n",
              "  for (const file of files) {\n",
              "    const li = document.createElement('li');\n",
              "    li.append(span(file.name, {fontWeight: 'bold'}));\n",
              "    li.append(span(\n",
              "        `(${file.type || 'n/a'}) - ${file.size} bytes, ` +\n",
              "        `last modified: ${\n",
              "            file.lastModifiedDate ? file.lastModifiedDate.toLocaleDateString() :\n",
              "                                    'n/a'} - `));\n",
              "    const percent = span('0% done');\n",
              "    li.appendChild(percent);\n",
              "\n",
              "    outputElement.appendChild(li);\n",
              "\n",
              "    const fileDataPromise = new Promise((resolve) => {\n",
              "      const reader = new FileReader();\n",
              "      reader.onload = (e) => {\n",
              "        resolve(e.target.result);\n",
              "      };\n",
              "      reader.readAsArrayBuffer(file);\n",
              "    });\n",
              "    // Wait for the data to be ready.\n",
              "    let fileData = yield {\n",
              "      promise: fileDataPromise,\n",
              "      response: {\n",
              "        action: 'continue',\n",
              "      }\n",
              "    };\n",
              "\n",
              "    // Use a chunked sending to avoid message size limits. See b/62115660.\n",
              "    let position = 0;\n",
              "    do {\n",
              "      const length = Math.min(fileData.byteLength - position, MAX_PAYLOAD_SIZE);\n",
              "      const chunk = new Uint8Array(fileData, position, length);\n",
              "      position += length;\n",
              "\n",
              "      const base64 = btoa(String.fromCharCode.apply(null, chunk));\n",
              "      yield {\n",
              "        response: {\n",
              "          action: 'append',\n",
              "          file: file.name,\n",
              "          data: base64,\n",
              "        },\n",
              "      };\n",
              "\n",
              "      let percentDone = fileData.byteLength === 0 ?\n",
              "          100 :\n",
              "          Math.round((position / fileData.byteLength) * 100);\n",
              "      percent.textContent = `${percentDone}% done`;\n",
              "\n",
              "    } while (position < fileData.byteLength);\n",
              "  }\n",
              "\n",
              "  // All done.\n",
              "  yield {\n",
              "    response: {\n",
              "      action: 'complete',\n",
              "    }\n",
              "  };\n",
              "}\n",
              "\n",
              "scope.google = scope.google || {};\n",
              "scope.google.colab = scope.google.colab || {};\n",
              "scope.google.colab._files = {\n",
              "  _uploadFiles,\n",
              "  _uploadFilesContinue,\n",
              "};\n",
              "})(self);\n",
              "</script> "
            ]
          },
          "metadata": {}
        },
        {
          "output_type": "stream",
          "name": "stdout",
          "text": [
            "Saving metadata11.json to metadata11.json\n",
            "Saving metadata12.json to metadata12.json\n",
            "Saving metadata13.json to metadata13.json\n",
            "Saving metadata21.json to metadata21.json\n",
            "Saving metadata22.json to metadata22.json\n",
            "Saving metadata23.json to metadata23.json\n",
            "Saving metadata31.json to metadata31.json\n",
            "Saving metadata32.json to metadata32.json\n",
            "Saving metadata33.json to metadata33.json\n",
            "Saving metadata41.json to metadata41.json\n",
            "Saving metadata42.json to metadata42.json\n",
            "Saving metadata43.json to metadata43.json\n",
            "Saving metadata51.json to metadata51.json\n",
            "Saving metadata52.json to metadata52.json\n",
            "Saving metadata53.json to metadata53.json\n"
          ]
        }
      ]
    },
    {
      "cell_type": "markdown",
      "source": [
        "Upload performance CSV file"
      ],
      "metadata": {
        "id": "bRnZuj7HHXyc"
      }
    },
    {
      "cell_type": "code",
      "source": [
        "print(\"\\nPlease upload the performance CSV file:\")\n",
        "uploaded_performance = files.upload()\n",
        "\n",
        "performance_filename = list(uploaded_performance.keys())[0]\n",
        "performance_path = os.path.join(\".\", performance_filename)\n",
        "with open(performance_path, \"wb\") as f:\n",
        "    f.write(uploaded_performance[performance_filename])\n",
        "\n",
        "performance = pd.read_csv(performance_path)"
      ],
      "metadata": {
        "colab": {
          "base_uri": "https://localhost:8080/",
          "height": 108
        },
        "id": "oWPxGfcuHZY0",
        "outputId": "de697b74-534b-4776-df0b-f1a4d0ff93ca"
      },
      "execution_count": 4,
      "outputs": [
        {
          "output_type": "stream",
          "name": "stdout",
          "text": [
            "\n",
            "Please upload the performance CSV file:\n"
          ]
        },
        {
          "output_type": "display_data",
          "data": {
            "text/plain": [
              "<IPython.core.display.HTML object>"
            ],
            "text/html": [
              "\n",
              "     <input type=\"file\" id=\"files-7b5533a0-21e8-43ba-9ca9-eae6a7b9f34c\" name=\"files[]\" multiple disabled\n",
              "        style=\"border:none\" />\n",
              "     <output id=\"result-7b5533a0-21e8-43ba-9ca9-eae6a7b9f34c\">\n",
              "      Upload widget is only available when the cell has been executed in the\n",
              "      current browser session. Please rerun this cell to enable.\n",
              "      </output>\n",
              "      <script>// Copyright 2017 Google LLC\n",
              "//\n",
              "// Licensed under the Apache License, Version 2.0 (the \"License\");\n",
              "// you may not use this file except in compliance with the License.\n",
              "// You may obtain a copy of the License at\n",
              "//\n",
              "//      http://www.apache.org/licenses/LICENSE-2.0\n",
              "//\n",
              "// Unless required by applicable law or agreed to in writing, software\n",
              "// distributed under the License is distributed on an \"AS IS\" BASIS,\n",
              "// WITHOUT WARRANTIES OR CONDITIONS OF ANY KIND, either express or implied.\n",
              "// See the License for the specific language governing permissions and\n",
              "// limitations under the License.\n",
              "\n",
              "/**\n",
              " * @fileoverview Helpers for google.colab Python module.\n",
              " */\n",
              "(function(scope) {\n",
              "function span(text, styleAttributes = {}) {\n",
              "  const element = document.createElement('span');\n",
              "  element.textContent = text;\n",
              "  for (const key of Object.keys(styleAttributes)) {\n",
              "    element.style[key] = styleAttributes[key];\n",
              "  }\n",
              "  return element;\n",
              "}\n",
              "\n",
              "// Max number of bytes which will be uploaded at a time.\n",
              "const MAX_PAYLOAD_SIZE = 100 * 1024;\n",
              "\n",
              "function _uploadFiles(inputId, outputId) {\n",
              "  const steps = uploadFilesStep(inputId, outputId);\n",
              "  const outputElement = document.getElementById(outputId);\n",
              "  // Cache steps on the outputElement to make it available for the next call\n",
              "  // to uploadFilesContinue from Python.\n",
              "  outputElement.steps = steps;\n",
              "\n",
              "  return _uploadFilesContinue(outputId);\n",
              "}\n",
              "\n",
              "// This is roughly an async generator (not supported in the browser yet),\n",
              "// where there are multiple asynchronous steps and the Python side is going\n",
              "// to poll for completion of each step.\n",
              "// This uses a Promise to block the python side on completion of each step,\n",
              "// then passes the result of the previous step as the input to the next step.\n",
              "function _uploadFilesContinue(outputId) {\n",
              "  const outputElement = document.getElementById(outputId);\n",
              "  const steps = outputElement.steps;\n",
              "\n",
              "  const next = steps.next(outputElement.lastPromiseValue);\n",
              "  return Promise.resolve(next.value.promise).then((value) => {\n",
              "    // Cache the last promise value to make it available to the next\n",
              "    // step of the generator.\n",
              "    outputElement.lastPromiseValue = value;\n",
              "    return next.value.response;\n",
              "  });\n",
              "}\n",
              "\n",
              "/**\n",
              " * Generator function which is called between each async step of the upload\n",
              " * process.\n",
              " * @param {string} inputId Element ID of the input file picker element.\n",
              " * @param {string} outputId Element ID of the output display.\n",
              " * @return {!Iterable<!Object>} Iterable of next steps.\n",
              " */\n",
              "function* uploadFilesStep(inputId, outputId) {\n",
              "  const inputElement = document.getElementById(inputId);\n",
              "  inputElement.disabled = false;\n",
              "\n",
              "  const outputElement = document.getElementById(outputId);\n",
              "  outputElement.innerHTML = '';\n",
              "\n",
              "  const pickedPromise = new Promise((resolve) => {\n",
              "    inputElement.addEventListener('change', (e) => {\n",
              "      resolve(e.target.files);\n",
              "    });\n",
              "  });\n",
              "\n",
              "  const cancel = document.createElement('button');\n",
              "  inputElement.parentElement.appendChild(cancel);\n",
              "  cancel.textContent = 'Cancel upload';\n",
              "  const cancelPromise = new Promise((resolve) => {\n",
              "    cancel.onclick = () => {\n",
              "      resolve(null);\n",
              "    };\n",
              "  });\n",
              "\n",
              "  // Wait for the user to pick the files.\n",
              "  const files = yield {\n",
              "    promise: Promise.race([pickedPromise, cancelPromise]),\n",
              "    response: {\n",
              "      action: 'starting',\n",
              "    }\n",
              "  };\n",
              "\n",
              "  cancel.remove();\n",
              "\n",
              "  // Disable the input element since further picks are not allowed.\n",
              "  inputElement.disabled = true;\n",
              "\n",
              "  if (!files) {\n",
              "    return {\n",
              "      response: {\n",
              "        action: 'complete',\n",
              "      }\n",
              "    };\n",
              "  }\n",
              "\n",
              "  for (const file of files) {\n",
              "    const li = document.createElement('li');\n",
              "    li.append(span(file.name, {fontWeight: 'bold'}));\n",
              "    li.append(span(\n",
              "        `(${file.type || 'n/a'}) - ${file.size} bytes, ` +\n",
              "        `last modified: ${\n",
              "            file.lastModifiedDate ? file.lastModifiedDate.toLocaleDateString() :\n",
              "                                    'n/a'} - `));\n",
              "    const percent = span('0% done');\n",
              "    li.appendChild(percent);\n",
              "\n",
              "    outputElement.appendChild(li);\n",
              "\n",
              "    const fileDataPromise = new Promise((resolve) => {\n",
              "      const reader = new FileReader();\n",
              "      reader.onload = (e) => {\n",
              "        resolve(e.target.result);\n",
              "      };\n",
              "      reader.readAsArrayBuffer(file);\n",
              "    });\n",
              "    // Wait for the data to be ready.\n",
              "    let fileData = yield {\n",
              "      promise: fileDataPromise,\n",
              "      response: {\n",
              "        action: 'continue',\n",
              "      }\n",
              "    };\n",
              "\n",
              "    // Use a chunked sending to avoid message size limits. See b/62115660.\n",
              "    let position = 0;\n",
              "    do {\n",
              "      const length = Math.min(fileData.byteLength - position, MAX_PAYLOAD_SIZE);\n",
              "      const chunk = new Uint8Array(fileData, position, length);\n",
              "      position += length;\n",
              "\n",
              "      const base64 = btoa(String.fromCharCode.apply(null, chunk));\n",
              "      yield {\n",
              "        response: {\n",
              "          action: 'append',\n",
              "          file: file.name,\n",
              "          data: base64,\n",
              "        },\n",
              "      };\n",
              "\n",
              "      let percentDone = fileData.byteLength === 0 ?\n",
              "          100 :\n",
              "          Math.round((position / fileData.byteLength) * 100);\n",
              "      percent.textContent = `${percentDone}% done`;\n",
              "\n",
              "    } while (position < fileData.byteLength);\n",
              "  }\n",
              "\n",
              "  // All done.\n",
              "  yield {\n",
              "    response: {\n",
              "      action: 'complete',\n",
              "    }\n",
              "  };\n",
              "}\n",
              "\n",
              "scope.google = scope.google || {};\n",
              "scope.google.colab = scope.google.colab || {};\n",
              "scope.google.colab._files = {\n",
              "  _uploadFiles,\n",
              "  _uploadFilesContinue,\n",
              "};\n",
              "})(self);\n",
              "</script> "
            ]
          },
          "metadata": {}
        },
        {
          "output_type": "stream",
          "name": "stdout",
          "text": [
            "Saving mean_biofeedback_results_mays_with_t.csv to mean_biofeedback_results_mays_with_t.csv\n"
          ]
        }
      ]
    },
    {
      "cell_type": "markdown",
      "source": [
        "Reshape performance data"
      ],
      "metadata": {
        "id": "u7L1-cR-Ha_0"
      }
    },
    {
      "cell_type": "code",
      "source": [
        "melted = performance.melt(\n",
        "    id_vars=[\"participant\"],\n",
        "    value_vars=[\"Merav1_mean\", \"Merav2_mean\", \"Merav3_mean\"],\n",
        "    var_name=\"video_id\",\n",
        "    value_name=\"performance_score\"\n",
        ")\n",
        "melted[\"video_id\"] = melted[\"video_id\"].str.replace(\"_mean\", \"\")\n",
        "melted.rename(columns={\"participant\": \"user_id\"}, inplace=True)\n"
      ],
      "metadata": {
        "id": "e5koeNwGHdbn"
      },
      "execution_count": 5,
      "outputs": []
    },
    {
      "cell_type": "markdown",
      "source": [
        "Merge performance + metadata"
      ],
      "metadata": {
        "id": "JlzN01ocHgNy"
      }
    },
    {
      "cell_type": "code",
      "source": [
        "merged = melted.merge(metadata_summary, on=[\"user_id\", \"video_id\"], how=\"left\")\n"
      ],
      "metadata": {
        "id": "SZDc03CHHhoa"
      },
      "execution_count": 6,
      "outputs": []
    },
    {
      "cell_type": "markdown",
      "source": [
        "Correlation analysis"
      ],
      "metadata": {
        "id": "6ewLLMjPHiz-"
      }
    },
    {
      "cell_type": "code",
      "source": [
        "corrs = merged[[\"performance_score\", \"count_calibrations\", \"total_calibration_time\", \"mean_calibration_time\"]].corr(method=\"pearson\")\n",
        "print(\"\\nCorrelation matrix:\\n\", corrs)\n"
      ],
      "metadata": {
        "colab": {
          "base_uri": "https://localhost:8080/"
        },
        "id": "JLvG8LqBHlA4",
        "outputId": "558d6b9d-bd4d-4659-ceaf-46aa6f7e1d18"
      },
      "execution_count": 7,
      "outputs": [
        {
          "output_type": "stream",
          "name": "stdout",
          "text": [
            "\n",
            "Correlation matrix:\n",
            "                         performance_score  count_calibrations  \\\n",
            "performance_score                1.000000           -0.403298   \n",
            "count_calibrations              -0.403298            1.000000   \n",
            "total_calibration_time           0.090867           -0.796003   \n",
            "mean_calibration_time            0.112493           -0.700903   \n",
            "\n",
            "                        total_calibration_time  mean_calibration_time  \n",
            "performance_score                     0.090867               0.112493  \n",
            "count_calibrations                   -0.796003              -0.700903  \n",
            "total_calibration_time                1.000000               0.967374  \n",
            "mean_calibration_time                 0.967374               1.000000  \n"
          ]
        }
      ]
    },
    {
      "cell_type": "markdown",
      "source": [
        " Save and visualize"
      ],
      "metadata": {
        "id": "nWS8slKIHmgv"
      }
    },
    {
      "cell_type": "code",
      "source": [
        "import statsmodels.api as sm\n",
        "from scipy import stats\n",
        "\n",
        "merged.to_csv(\"correlation_results.csv\", index=False)\n",
        "print(\"\\nSaved merged results as 'correlation_results.csv'. You can download it below:\")\n",
        "\n",
        "files.download(\"correlation_results.csv\")\n",
        "\n",
        "# Correlation analysis\n",
        "corrs = merged[[\"performance_score\", \"count_calibrations\", \"total_calibration_time\", \"mean_calibration_time\"]].corr(method=\"pearson\")\n",
        "print(\"\\nCorrelation matrix:\\n\", corrs)\n",
        "\n",
        "# Regression analysis and plot for Performance vs Total Calibration Time\n",
        "X = merged[\"total_calibration_time\"]\n",
        "Y = merged[\"performance_score\"]\n",
        "X = sm.add_constant(X) # Add a constant term to the independent variable\n",
        "model = sm.OLS(Y, X).fit()\n",
        "predictions = model.predict(X)\n",
        "\n",
        "# Get correlation and p-value\n",
        "corr_value = corrs.loc[\"total_calibration_time\", \"performance_score\"]\n",
        "p_value = model.pvalues[\"total_calibration_time\"]\n",
        "\n",
        "plt.scatter(merged[\"total_calibration_time\"], merged[\"performance_score\"])\n",
        "plt.plot(merged[\"total_calibration_time\"], predictions, color='red', linestyle='-', linewidth=2)\n",
        "plt.xlabel(\"Total Calibration Time (s)\")\n",
        "plt.ylabel(\"Performance Score\")\n",
        "plt.title(f\"Performance vs Calibration Time (r={corr_value:.2f}, p={p_value:.3f})\")\n",
        "plt.show()"
      ],
      "metadata": {
        "colab": {
          "base_uri": "https://localhost:8080/",
          "height": 732
        },
        "id": "lk3HuHPZHoAy",
        "outputId": "3703938d-6aa5-4728-b5a8-bf9c79b034a5"
      },
      "execution_count": 9,
      "outputs": [
        {
          "output_type": "stream",
          "name": "stdout",
          "text": [
            "\n",
            "✅ Saved merged results as 'correlation_results.csv'. You can download it below:\n"
          ]
        },
        {
          "output_type": "display_data",
          "data": {
            "text/plain": [
              "<IPython.core.display.Javascript object>"
            ],
            "application/javascript": [
              "\n",
              "    async function download(id, filename, size) {\n",
              "      if (!google.colab.kernel.accessAllowed) {\n",
              "        return;\n",
              "      }\n",
              "      const div = document.createElement('div');\n",
              "      const label = document.createElement('label');\n",
              "      label.textContent = `Downloading \"${filename}\": `;\n",
              "      div.appendChild(label);\n",
              "      const progress = document.createElement('progress');\n",
              "      progress.max = size;\n",
              "      div.appendChild(progress);\n",
              "      document.body.appendChild(div);\n",
              "\n",
              "      const buffers = [];\n",
              "      let downloaded = 0;\n",
              "\n",
              "      const channel = await google.colab.kernel.comms.open(id);\n",
              "      // Send a message to notify the kernel that we're ready.\n",
              "      channel.send({})\n",
              "\n",
              "      for await (const message of channel.messages) {\n",
              "        // Send a message to notify the kernel that we're ready.\n",
              "        channel.send({})\n",
              "        if (message.buffers) {\n",
              "          for (const buffer of message.buffers) {\n",
              "            buffers.push(buffer);\n",
              "            downloaded += buffer.byteLength;\n",
              "            progress.value = downloaded;\n",
              "          }\n",
              "        }\n",
              "      }\n",
              "      const blob = new Blob(buffers, {type: 'application/binary'});\n",
              "      const a = document.createElement('a');\n",
              "      a.href = window.URL.createObjectURL(blob);\n",
              "      a.download = filename;\n",
              "      div.appendChild(a);\n",
              "      a.click();\n",
              "      div.remove();\n",
              "    }\n",
              "  "
            ]
          },
          "metadata": {}
        },
        {
          "output_type": "display_data",
          "data": {
            "text/plain": [
              "<IPython.core.display.Javascript object>"
            ],
            "application/javascript": [
              "download(\"download_0caf6fed-1a2e-463d-adf2-db6d9fa9a2f6\", \"correlation_results.csv\", 1124)"
            ]
          },
          "metadata": {}
        },
        {
          "output_type": "stream",
          "name": "stdout",
          "text": [
            "\n",
            "Correlation matrix:\n",
            "                         performance_score  count_calibrations  \\\n",
            "performance_score                1.000000           -0.403298   \n",
            "count_calibrations              -0.403298            1.000000   \n",
            "total_calibration_time           0.090867           -0.796003   \n",
            "mean_calibration_time            0.112493           -0.700903   \n",
            "\n",
            "                        total_calibration_time  mean_calibration_time  \n",
            "performance_score                     0.090867               0.112493  \n",
            "count_calibrations                   -0.796003              -0.700903  \n",
            "total_calibration_time                1.000000               0.967374  \n",
            "mean_calibration_time                 0.967374               1.000000  \n"
          ]
        },
        {
          "output_type": "display_data",
          "data": {
            "text/plain": [
              "<Figure size 640x480 with 1 Axes>"
            ],
            "image/png": "[encoded data removed]"
          },
          "metadata": {}
        }
      ]
    },
    {
      "cell_type": "code",
      "source": [
        "import statsmodels.api as sm\n",
        "from scipy import stats\n",
        "\n",
        "print(\"\\nCorrelation with number of calibrations only:\")\n",
        "\n",
        "# Pearson correlation between performance and count of calibrations\n",
        "corr_count = merged[[\"performance_score\", \"count_calibrations\"]].corr(method=\"pearson\")\n",
        "print(corr_count)\n",
        "\n",
        "# Regression analysis for Performance vs Number of Calibrations\n",
        "X_count = merged[\"count_calibrations\"]\n",
        "Y_count = merged[\"performance_score\"]\n",
        "X_count = sm.add_constant(X_count) # Add a constant term to the independent variable\n",
        "model_count = sm.OLS(Y_count, X_count).fit()\n",
        "predictions_count = model_count.predict(X_count)\n",
        "\n",
        "# Get correlation and p-value\n",
        "corr_value_count = corr_count.loc[\"performance_score\", \"count_calibrations\"]\n",
        "p_value_count = model_count.pvalues[\"count_calibrations\"]\n",
        "\n",
        "\n",
        "# Optional: visualize relationship\n",
        "plt.scatter(merged[\"count_calibrations\"], merged[\"performance_score\"])\n",
        "plt.plot(merged[\"count_calibrations\"], predictions_count, color='red', linestyle='-', linewidth=2)\n",
        "plt.xlabel(\"Number of Calibrations\")\n",
        "plt.ylabel(\"Performance Score\")\n",
        "plt.title(f\"Performance vs Number of Calibrations (r={corr_value_count:.2f}, p={p_value_count:.3f})\")\n",
        "plt.show()"
      ],
      "metadata": {
        "colab": {
          "base_uri": "https://localhost:8080/",
          "height": 559
        },
        "id": "1o4HrdEXby_t",
        "outputId": "73955b91-e107-4c4f-ad74-123074458900"
      },
      "execution_count": 10,
      "outputs": [
        {
          "output_type": "stream",
          "name": "stdout",
          "text": [
            "\n",
            "📈 Correlation with number of calibrations only:\n",
            "                    performance_score  count_calibrations\n",
            "performance_score            1.000000           -0.403298\n",
            "count_calibrations          -0.403298            1.000000\n"
          ]
        },
        {
          "output_type": "display_data",
          "data": {
            "text/plain": [
              "<Figure size 640x480 with 1 Axes>"
            ],
            "image/png": "[encoded data removed]"
          },
          "metadata": {}
        }
      ]
    },
    {
      "cell_type": "markdown",
      "source": [
        "Survey data summary\n"
      ],
      "metadata": {
        "id": "FFE7FBFGZtUs"
      }
    },
    {
      "cell_type": "code",
      "source": [
        "# === Step 1: Upload all survey JSON files ===\n",
        "print(\"Please upload ALL survey_*.json files:\")\n",
        "uploaded_files = files.upload()\n",
        "\n",
        "# === Step 2: Save uploaded files temporarily ===\n",
        "survey_dir = \"uploaded_surveys\"\n",
        "os.makedirs(survey_dir, exist_ok=True)\n",
        "\n",
        "for filename, content in uploaded_files.items():\n",
        "    with open(os.path.join(survey_dir, filename), \"wb\") as f:\n",
        "        f.write(content)\n",
        "\n",
        "# === Step 3: Parse all JSONs and build a summary ===\n",
        "rows = []\n",
        "for file in os.listdir(survey_dir):\n",
        "    if file.endswith(\".json\"):\n",
        "        with open(os.path.join(survey_dir, file), \"r\") as f:\n",
        "            data = json.load(f)\n",
        "        rows.append({\n",
        "            \"user_id\": data.get(\"user_id\"),\n",
        "            \"video_id\": data.get(\"video_id\"),\n",
        "            \"EnjoymentRating\": data.get(\"EnjoymentRating\"),\n",
        "            \"FutureActivityRating\": data.get(\"FutureActivityRating\")\n",
        "        })\n",
        "\n",
        "# === Step 4: Create and sort DataFrame ===\n",
        "df = pd.DataFrame(rows)\n",
        "df.sort_values(by=[\"user_id\", \"video_id\"], inplace=True)\n",
        "print(\"\\nCombined survey table:\\n\")\n",
        "print(df)\n",
        "\n",
        "# === Step 5: Save as CSV and download ===\n",
        "output_file = \"survey_summary.csv\"\n",
        "df.to_csv(output_file, index=False)\n",
        "print(f\"\\nSaved summary as {output_file}\")\n",
        "files.download(output_file)"
      ],
      "metadata": {
        "colab": {
          "base_uri": "https://localhost:8080/",
          "height": 1000
        },
        "id": "FeJT5EVPZvjE",
        "outputId": "4e7e339d-012c-443d-c0e7-54b8ace903bf"
      },
      "execution_count": 11,
      "outputs": [
        {
          "output_type": "stream",
          "name": "stdout",
          "text": [
            "Please upload ALL survey_*.json files:\n"
          ]
        },
        {
          "output_type": "display_data",
          "data": {
            "text/plain": [
              "<IPython.core.display.HTML object>"
            ],
            "text/html": [
              "\n",
              "     <input type=\"file\" id=\"files-747aae3d-6617-4c1e-a69a-c48b372c0265\" name=\"files[]\" multiple disabled\n",
              "        style=\"border:none\" />\n",
              "     <output id=\"result-747aae3d-6617-4c1e-a69a-c48b372c0265\">\n",
              "      Upload widget is only available when the cell has been executed in the\n",
              "      current browser session. Please rerun this cell to enable.\n",
              "      </output>\n",
              "      <script>// Copyright 2017 Google LLC\n",
              "//\n",
              "// Licensed under the Apache License, Version 2.0 (the \"License\");\n",
              "// you may not use this file except in compliance with the License.\n",
              "// You may obtain a copy of the License at\n",
              "//\n",
              "//      http://www.apache.org/licenses/LICENSE-2.0\n",
              "//\n",
              "// Unless required by applicable law or agreed to in writing, software\n",
              "// distributed under the License is distributed on an \"AS IS\" BASIS,\n",
              "// WITHOUT WARRANTIES OR CONDITIONS OF ANY KIND, either express or implied.\n",
              "// See the License for the specific language governing permissions and\n",
              "// limitations under the License.\n",
              "\n",
              "/**\n",
              " * @fileoverview Helpers for google.colab Python module.\n",
              " */\n",
              "(function(scope) {\n",
              "function span(text, styleAttributes = {}) {\n",
              "  const element = document.createElement('span');\n",
              "  element.textContent = text;\n",
              "  for (const key of Object.keys(styleAttributes)) {\n",
              "    element.style[key] = styleAttributes[key];\n",
              "  }\n",
              "  return element;\n",
              "}\n",
              "\n",
              "// Max number of bytes which will be uploaded at a time.\n",
              "const MAX_PAYLOAD_SIZE = 100 * 1024;\n",
              "\n",
              "function _uploadFiles(inputId, outputId) {\n",
              "  const steps = uploadFilesStep(inputId, outputId);\n",
              "  const outputElement = document.getElementById(outputId);\n",
              "  // Cache steps on the outputElement to make it available for the next call\n",
              "  // to uploadFilesContinue from Python.\n",
              "  outputElement.steps = steps;\n",
              "\n",
              "  return _uploadFilesContinue(outputId);\n",
              "}\n",
              "\n",
              "// This is roughly an async generator (not supported in the browser yet),\n",
              "// where there are multiple asynchronous steps and the Python side is going\n",
              "// to poll for completion of each step.\n",
              "// This uses a Promise to block the python side on completion of each step,\n",
              "// then passes the result of the previous step as the input to the next step.\n",
              "function _uploadFilesContinue(outputId) {\n",
              "  const outputElement = document.getElementById(outputId);\n",
              "  const steps = outputElement.steps;\n",
              "\n",
              "  const next = steps.next(outputElement.lastPromiseValue);\n",
              "  return Promise.resolve(next.value.promise).then((value) => {\n",
              "    // Cache the last promise value to make it available to the next\n",
              "    // step of the generator.\n",
              "    outputElement.lastPromiseValue = value;\n",
              "    return next.value.response;\n",
              "  });\n",
              "}\n",
              "\n",
              "/**\n",
              " * Generator function which is called between each async step of the upload\n",
              " * process.\n",
              " * @param {string} inputId Element ID of the input file picker element.\n",
              " * @param {string} outputId Element ID of the output display.\n",
              " * @return {!Iterable<!Object>} Iterable of next steps.\n",
              " */\n",
              "function* uploadFilesStep(inputId, outputId) {\n",
              "  const inputElement = document.getElementById(inputId);\n",
              "  inputElement.disabled = false;\n",
              "\n",
              "  const outputElement = document.getElementById(outputId);\n",
              "  outputElement.innerHTML = '';\n",
              "\n",
              "  const pickedPromise = new Promise((resolve) => {\n",
              "    inputElement.addEventListener('change', (e) => {\n",
              "      resolve(e.target.files);\n",
              "    });\n",
              "  });\n",
              "\n",
              "  const cancel = document.createElement('button');\n",
              "  inputElement.parentElement.appendChild(cancel);\n",
              "  cancel.textContent = 'Cancel upload';\n",
              "  const cancelPromise = new Promise((resolve) => {\n",
              "    cancel.onclick = () => {\n",
              "      resolve(null);\n",
              "    };\n",
              "  });\n",
              "\n",
              "  // Wait for the user to pick the files.\n",
              "  const files = yield {\n",
              "    promise: Promise.race([pickedPromise, cancelPromise]),\n",
              "    response: {\n",
              "      action: 'starting',\n",
              "    }\n",
              "  };\n",
              "\n",
              "  cancel.remove();\n",
              "\n",
              "  // Disable the input element since further picks are not allowed.\n",
              "  inputElement.disabled = true;\n",
              "\n",
              "  if (!files) {\n",
              "    return {\n",
              "      response: {\n",
              "        action: 'complete',\n",
              "      }\n",
              "    };\n",
              "  }\n",
              "\n",
              "  for (const file of files) {\n",
              "    const li = document.createElement('li');\n",
              "    li.append(span(file.name, {fontWeight: 'bold'}));\n",
              "    li.append(span(\n",
              "        `(${file.type || 'n/a'}) - ${file.size} bytes, ` +\n",
              "        `last modified: ${\n",
              "            file.lastModifiedDate ? file.lastModifiedDate.toLocaleDateString() :\n",
              "                                    'n/a'} - `));\n",
              "    const percent = span('0% done');\n",
              "    li.appendChild(percent);\n",
              "\n",
              "    outputElement.appendChild(li);\n",
              "\n",
              "    const fileDataPromise = new Promise((resolve) => {\n",
              "      const reader = new FileReader();\n",
              "      reader.onload = (e) => {\n",
              "        resolve(e.target.result);\n",
              "      };\n",
              "      reader.readAsArrayBuffer(file);\n",
              "    });\n",
              "    // Wait for the data to be ready.\n",
              "    let fileData = yield {\n",
              "      promise: fileDataPromise,\n",
              "      response: {\n",
              "        action: 'continue',\n",
              "      }\n",
              "    };\n",
              "\n",
              "    // Use a chunked sending to avoid message size limits. See b/62115660.\n",
              "    let position = 0;\n",
              "    do {\n",
              "      const length = Math.min(fileData.byteLength - position, MAX_PAYLOAD_SIZE);\n",
              "      const chunk = new Uint8Array(fileData, position, length);\n",
              "      position += length;\n",
              "\n",
              "      const base64 = btoa(String.fromCharCode.apply(null, chunk));\n",
              "      yield {\n",
              "        response: {\n",
              "          action: 'append',\n",
              "          file: file.name,\n",
              "          data: base64,\n",
              "        },\n",
              "      };\n",
              "\n",
              "      let percentDone = fileData.byteLength === 0 ?\n",
              "          100 :\n",
              "          Math.round((position / fileData.byteLength) * 100);\n",
              "      percent.textContent = `${percentDone}% done`;\n",
              "\n",
              "    } while (position < fileData.byteLength);\n",
              "  }\n",
              "\n",
              "  // All done.\n",
              "  yield {\n",
              "    response: {\n",
              "      action: 'complete',\n",
              "    }\n",
              "  };\n",
              "}\n",
              "\n",
              "scope.google = scope.google || {};\n",
              "scope.google.colab = scope.google.colab || {};\n",
              "scope.google.colab._files = {\n",
              "  _uploadFiles,\n",
              "  _uploadFilesContinue,\n",
              "};\n",
              "})(self);\n",
              "</script> "
            ]
          },
          "metadata": {}
        },
        {
          "output_type": "stream",
          "name": "stdout",
          "text": [
            "Saving survey_Merav1_5d8emj4fNdetBIiA6bowYPoiA3p1_1759930264769.json to survey_Merav1_5d8emj4fNdetBIiA6bowYPoiA3p1_1759930264769.json\n",
            "Saving survey_Merav1_lBr4A7KMSxeGrInkKSVywKVuhSr2_1759932003011.json to survey_Merav1_lBr4A7KMSxeGrInkKSVywKVuhSr2_1759932003011.json\n",
            "Saving survey_Merav1_Pfy49P049RO1ebsaoGkYBMt0LKz2_1754670363591.json to survey_Merav1_Pfy49P049RO1ebsaoGkYBMt0LKz2_1754670363591.json\n",
            "Saving survey_Merav1_RYQgLopjQVfHkm6XvSsIANjcmH43_1754674009141.json to survey_Merav1_RYQgLopjQVfHkm6XvSsIANjcmH43_1754674009141.json\n",
            "Saving survey_Merav1_umcIypojgiNd92tjJGjpWEffb5R2_1760125882836.json to survey_Merav1_umcIypojgiNd92tjJGjpWEffb5R2_1760125882836.json\n",
            "Saving survey_Merav2_5d8emj4fNdetBIiA6bowYPoiA3p1_1760206399256.json to survey_Merav2_5d8emj4fNdetBIiA6bowYPoiA3p1_1760206399256.json\n",
            "Saving survey_Merav2_lBr4A7KMSxeGrInkKSVywKVuhSr2_1760029333482.json to survey_Merav2_lBr4A7KMSxeGrInkKSVywKVuhSr2_1760029333482.json\n",
            "Saving survey_Merav2_Pfy49P049RO1ebsaoGkYBMt0LKz2_1754764897183.json to survey_Merav2_Pfy49P049RO1ebsaoGkYBMt0LKz2_1754764897183.json\n",
            "Saving survey_Merav2_RYQgLopjQVfHkm6XvSsIANjcmH43_1754777514817.json to survey_Merav2_RYQgLopjQVfHkm6XvSsIANjcmH43_1754777514817.json\n",
            "Saving survey_Merav2_umcIypojgiNd92tjJGjpWEffb5R2_1760207715530.json to survey_Merav2_umcIypojgiNd92tjJGjpWEffb5R2_1760207715530.json\n",
            "Saving survey_Merav3_5d8emj4fNdetBIiA6bowYPoiA3p1_1760208398646.json to survey_Merav3_5d8emj4fNdetBIiA6bowYPoiA3p1_1760208398646.json\n",
            "Saving survey_Merav3_lBr4A7KMSxeGrInkKSVywKVuhSr2_1760097389138.json to survey_Merav3_lBr4A7KMSxeGrInkKSVywKVuhSr2_1760097389138.json\n",
            "Saving survey_Merav3_Pfy49P049RO1ebsaoGkYBMt0LKz2_1754853106218.json to survey_Merav3_Pfy49P049RO1ebsaoGkYBMt0LKz2_1754853106218.json\n",
            "Saving survey_Merav3_RYQgLopjQVfHkm6XvSsIANjcmH43_1754860743140.json to survey_Merav3_RYQgLopjQVfHkm6XvSsIANjcmH43_1754860743140.json\n",
            "Saving survey_Merav3_umcIypojgiNd92tjJGjpWEffb5R2_1760277913392.json to survey_Merav3_umcIypojgiNd92tjJGjpWEffb5R2_1760277913392.json\n",
            "\n",
            "Combined survey table:\n",
            "\n",
            "                         user_id video_id  EnjoymentRating  \\\n",
            "12  5d8emj4fNdetBIiA6bowYPoiA3p1   Merav1             1.00   \n",
            "3   5d8emj4fNdetBIiA6bowYPoiA3p1   Merav2             1.00   \n",
            "8   5d8emj4fNdetBIiA6bowYPoiA3p1   Merav3             1.00   \n",
            "7   Pfy49P049RO1ebsaoGkYBMt0LKz2   Merav1             0.68   \n",
            "9   Pfy49P049RO1ebsaoGkYBMt0LKz2   Merav2             0.84   \n",
            "6   Pfy49P049RO1ebsaoGkYBMt0LKz2   Merav3             1.00   \n",
            "13  RYQgLopjQVfHkm6XvSsIANjcmH43   Merav1             1.00   \n",
            "11  RYQgLopjQVfHkm6XvSsIANjcmH43   Merav2             1.00   \n",
            "0   RYQgLopjQVfHkm6XvSsIANjcmH43   Merav3             0.92   \n",
            "5   lBr4A7KMSxeGrInkKSVywKVuhSr2   Merav1             1.00   \n",
            "10  lBr4A7KMSxeGrInkKSVywKVuhSr2   Merav2             1.00   \n",
            "4   lBr4A7KMSxeGrInkKSVywKVuhSr2   Merav3             0.83   \n",
            "14  umcIypojgiNd92tjJGjpWEffb5R2   Merav1             0.40   \n",
            "1   umcIypojgiNd92tjJGjpWEffb5R2   Merav2             0.19   \n",
            "2   umcIypojgiNd92tjJGjpWEffb5R2   Merav3             0.00   \n",
            "\n",
            "    FutureActivityRating  \n",
            "12                  1.00  \n",
            "3                   1.00  \n",
            "8                   1.00  \n",
            "7                   0.75  \n",
            "9                   0.86  \n",
            "6                   1.00  \n",
            "13                  1.00  \n",
            "11                  0.89  \n",
            "0                   0.95  \n",
            "5                   1.00  \n",
            "10                  1.00  \n",
            "4                   0.83  \n",
            "14                  0.85  \n",
            "1                   0.77  \n",
            "2                   0.00  \n",
            "\n",
            "Saved summary as survey_summary.csv\n"
          ]
        },
        {
          "output_type": "display_data",
          "data": {
            "text/plain": [
              "<IPython.core.display.Javascript object>"
            ],
            "application/javascript": [
              "\n",
              "    async function download(id, filename, size) {\n",
              "      if (!google.colab.kernel.accessAllowed) {\n",
              "        return;\n",
              "      }\n",
              "      const div = document.createElement('div');\n",
              "      const label = document.createElement('label');\n",
              "      label.textContent = `Downloading \"${filename}\": `;\n",
              "      div.appendChild(label);\n",
              "      const progress = document.createElement('progress');\n",
              "      progress.max = size;\n",
              "      div.appendChild(progress);\n",
              "      document.body.appendChild(div);\n",
              "\n",
              "      const buffers = [];\n",
              "      let downloaded = 0;\n",
              "\n",
              "      const channel = await google.colab.kernel.comms.open(id);\n",
              "      // Send a message to notify the kernel that we're ready.\n",
              "      channel.send({})\n",
              "\n",
              "      for await (const message of channel.messages) {\n",
              "        // Send a message to notify the kernel that we're ready.\n",
              "        channel.send({})\n",
              "        if (message.buffers) {\n",
              "          for (const buffer of message.buffers) {\n",
              "            buffers.push(buffer);\n",
              "            downloaded += buffer.byteLength;\n",
              "            progress.value = downloaded;\n",
              "          }\n",
              "        }\n",
              "      }\n",
              "      const blob = new Blob(buffers, {type: 'application/binary'});\n",
              "      const a = document.createElement('a');\n",
              "      a.href = window.URL.createObjectURL(blob);\n",
              "      a.download = filename;\n",
              "      div.appendChild(a);\n",
              "      a.click();\n",
              "      div.remove();\n",
              "    }\n",
              "  "
            ]
          },
          "metadata": {}
        },
        {
          "output_type": "display_data",
          "data": {
            "text/plain": [
              "<IPython.core.display.Javascript object>"
            ],
            "application/javascript": [
              "download(\"download_6bf50de5-b7bc-4864-af2a-99592346c5f1\", \"survey_summary.csv\", 726)"
            ]
          },
          "metadata": {}
        }
      ]
    },
    {
      "cell_type": "markdown",
      "source": [
        "Survey and performance correlation analysis"
      ],
      "metadata": {
        "id": "piGOCNePPA01"
      }
    },
    {
      "cell_type": "code",
      "source": [
        "import statsmodels.api as sm\n",
        "from scipy import stats\n",
        "import numpy as np\n",
        "\n",
        "# Merge the survey data with the existing merged DataFrame\n",
        "merged_with_survey = merged.merge(df, on=[\"user_id\", \"video_id\"], how=\"left\")\n",
        "\n",
        "# Calculate correlations including survey ratings\n",
        "corrs_with_survey = merged_with_survey[[\"performance_score\", \"EnjoymentRating\", \"FutureActivityRating\"]].corr(method=\"pearson\")\n",
        "\n",
        "print(\"\\nCorrelation matrix between performance and survey ratings:\\n\", corrs_with_survey)\n",
        "\n",
        "# Get the correlation values\n",
        "corr_enjoyment = corrs_with_survey.loc[\"performance_score\", \"EnjoymentRating\"]\n",
        "corr_future_activity = corrs_with_survey.loc[\"performance_score\", \"FutureActivityRating\"]\n",
        "\n",
        "# Regression analysis for Performance vs Enjoyment Rating\n",
        "# Drop NaNs for regression and align performance with enjoyment\n",
        "regression_data_enjoyment = merged_with_survey[[\"EnjoymentRating\", \"performance_score\"]].dropna()\n",
        "X_enjoyment = regression_data_enjoyment[\"EnjoymentRating\"]\n",
        "Y_enjoyment = regression_data_enjoyment[\"performance_score\"]\n",
        "X_enjoyment = sm.add_constant(X_enjoyment) # Add a constant term\n",
        "model_enjoyment = sm.OLS(Y_enjoyment, X_enjoyment).fit()\n",
        "predictions_enjoyment = model_enjoyment.predict(X_enjoyment)\n",
        "\n",
        "# Sort data for plotting the regression line\n",
        "sort_index_enjoyment = regression_data_enjoyment[\"EnjoymentRating\"].argsort()\n",
        "X_enjoyment_sorted = X_enjoyment.iloc[sort_index_enjoyment]\n",
        "predictions_enjoyment_sorted = predictions_enjoyment.iloc[sort_index_enjoyment]\n",
        "\n",
        "\n",
        "# Get p-value for Enjoyment Rating\n",
        "p_value_enjoyment = model_enjoyment.pvalues[\"EnjoymentRating\"]\n",
        "\n",
        "\n",
        "# Plot Performance vs Enjoyment Rating with regression line and p-value\n",
        "plt.scatter(merged_with_survey[\"EnjoymentRating\"], merged_with_survey[\"performance_score\"])\n",
        "plt.plot(X_enjoyment_sorted[\"EnjoymentRating\"], predictions_enjoyment_sorted, color='red', linestyle='-', linewidth=2)\n",
        "plt.xlabel(\"Enjoyment Rating\")\n",
        "plt.ylabel(\"Performance Score\")\n",
        "plt.title(f\"Performance vs Enjoyment Rating (r={corr_enjoyment:.2f}, p={p_value_enjoyment:.3f})\")\n",
        "plt.show()\n",
        "\n",
        "# Regression analysis for Performance vs Future Activity Rating\n",
        "# Drop NaNs for regression and align performance with future activity\n",
        "regression_data_future_activity = merged_with_survey[[\"FutureActivityRating\", \"performance_score\"]].dropna()\n",
        "X_future_activity = regression_data_future_activity[\"FutureActivityRating\"]\n",
        "Y_future_activity = regression_data_future_activity[\"performance_score\"]\n",
        "X_future_activity = sm.add_constant(X_future_activity) # Add a constant term\n",
        "model_future_activity = sm.OLS(Y_future_activity, X_future_activity).fit()\n",
        "predictions_future_activity = model_future_activity.predict(X_future_activity)\n",
        "\n",
        "# Sort data for plotting the regression line\n",
        "sort_index_future_activity = regression_data_future_activity[\"FutureActivityRating\"].argsort()\n",
        "X_future_activity_sorted = X_future_activity.iloc[sort_index_future_activity]\n",
        "predictions_future_activity_sorted = predictions_future_activity.iloc[sort_index_future_activity]\n",
        "\n",
        "# Get p-value for Future Activity Rating\n",
        "p_value_future_activity = model_future_activity.pvalues[\"FutureActivityRating\"]\n",
        "\n",
        "# Plot Performance vs Future Activity Rating with regression line and p-value\n",
        "plt.scatter(merged_with_survey[\"FutureActivityRating\"], merged_with_survey[\"performance_score\"])\n",
        "plt.plot(X_future_activity_sorted[\"FutureActivityRating\"], predictions_future_activity_sorted, color='red', linestyle='-', linewidth=2)\n",
        "plt.xlabel(\"Future Activity Rating\")\n",
        "plt.ylabel(\"Performance Score\")\n",
        "plt.title(f\"Performance vs Future Activity Rating (r={corr_future_activity:.2f}, p={p_value_future_activity:.3f})\")\n",
        "plt.show()"
      ],
      "metadata": {
        "colab": {
          "base_uri": "https://localhost:8080/",
          "height": 1000
        },
        "id": "YTsD8q3nkP6W",
        "outputId": "06070c8d-2445-4cf6-acee-6bf0192485fe"
      },
      "execution_count": 13,
      "outputs": [
        {
          "output_type": "stream",
          "name": "stdout",
          "text": [
            "\n",
            "Correlation matrix between performance and survey ratings:\n",
            "                       performance_score  EnjoymentRating  FutureActivityRating\n",
            "performance_score               1.00000         -0.20226              -0.00632\n",
            "EnjoymentRating                -0.20226          1.00000               0.82726\n",
            "FutureActivityRating           -0.00632          0.82726               1.00000\n"
          ]
        },
        {
          "output_type": "display_data",
          "data": {
            "text/plain": [
              "<Figure size 640x480 with 1 Axes>"
            ],
            "image/png": "[encoded data removed]"
          },
          "metadata": {}
        },
        {
          "output_type": "display_data",
          "data": {
            "text/plain": [
              "<Figure size 640x480 with 1 Axes>"
            ],
            "image/png": "[encoded data removed]"
          },
          "metadata": {}
        }
      ]
    }
  ]
}